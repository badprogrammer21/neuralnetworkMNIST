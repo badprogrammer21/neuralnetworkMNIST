{
 "cells": [
  {
   "cell_type": "code",
   "execution_count": 2,
   "id": "840e33a2",
   "metadata": {
    "scrolled": true
   },
   "outputs": [
    {
     "name": "stderr",
     "output_type": "stream",
     "text": [
      "2023-11-22 18:16:06.296278: I tensorflow/tsl/cuda/cudart_stub.cc:28] Could not find cuda drivers on your machine, GPU will not be used.\n",
      "2023-11-22 18:16:06.324332: I tensorflow/tsl/cuda/cudart_stub.cc:28] Could not find cuda drivers on your machine, GPU will not be used.\n",
      "2023-11-22 18:16:06.325147: I tensorflow/core/platform/cpu_feature_guard.cc:182] This TensorFlow binary is optimized to use available CPU instructions in performance-critical operations.\n",
      "To enable the following instructions: AVX2 FMA, in other operations, rebuild TensorFlow with the appropriate compiler flags.\n",
      "2023-11-22 18:16:06.889902: W tensorflow/compiler/tf2tensorrt/utils/py_utils.cc:38] TF-TRT Warning: Could not find TensorRT\n"
     ]
    }
   ],
   "source": [
    "import numpy as np\n",
    "import pandas as pd\n",
    "from matplotlib import pyplot as plt\n",
    "from keras.datasets import mnist\n",
    "import time"
   ]
  },
  {
   "cell_type": "code",
   "execution_count": 3,
   "id": "db320953",
   "metadata": {},
   "outputs": [],
   "source": [
    "def initialize():\n",
    "    lamb = 0.1\n",
    "    units_1, units_2, units_3 = 128, 64, 32\n",
    "    scale1 = np.sqrt(2. / (units_1 + 784)) # 784 is 28x28 (i.e number of input features). Part of HE initialization\n",
    "    scale2 = np.sqrt(2. / (units_1 + units_2))\n",
    "    scale3 = np.sqrt(2. / (units_3 + units_2))\n",
    "    scale4 = np.sqrt(2. / (10 + units_3))\n",
    "    \"\"\"\n",
    "    W1 initializes the weight matrix for the connections between the input layer and the first hidden layer, \n",
    "    The matrix has a shape of (128, 784), \n",
    "    where 128 is the number of neurons in the first hidden layer, and 784 is the number of input features.\n",
    "    The scale=scale1 argument specifies the standard deviation of the normal distribution used for initialization.\n",
    "\n",
    "    b1 initializes the bias vector for the first hidden layer. \n",
    "    The vector has a shape of (64, 1), where units_1 is the number of neurons in the first hidden layer. \n",
    "    The np.sqrt(1./64) term is used to scale the values. This scaling factor is commonly used to initialize \n",
    "    biases to small values to prevent neurons from being saturated at the beginning of training.\n",
    "    \n",
    "    b should be applied to the scaling factor, not to the entire matrix.\n",
    "    \"\"\"\n",
    "    W1 = np.random.normal(size=(units_1, 784), scale=scale1)\n",
    "    b1 = np.random.normal(size=(units_1, 1)) * np.sqrt(1./units_1)\n",
    "    W2 = np.random.normal(size=(units_2, units_1), scale=scale2)\n",
    "    b2 = np.random.normal(size=(units_2, 1)) * np.sqrt(1./units_2)\n",
    "    W3 = np.random.normal(size=(units_3, units_2), scale=scale3)\n",
    "    b3 = np.random.normal(size=(units_3, 1)) * np.sqrt(1./units_3)\n",
    "    W4 = np.random.normal(size=(10, units_3), scale=scale4)\n",
    "    b4 = np.random.normal(size=(10, 1)) * np.sqrt(1./10)\n",
    "    \n",
    "    return W1, b1, W2, b2, W3, b3, W4, b4, lamb"
   ]
  },
  {
   "cell_type": "code",
   "execution_count": 4,
   "id": "eaae4050",
   "metadata": {},
   "outputs": [],
   "source": [
    "def ReLU(Z):\n",
    "    return np.maximum(Z,0)\n",
    "\n",
    "def deriv_of_ReLU(Z):\n",
    "    return Z > 0\n",
    "\n",
    "def derivative_leaky_ReLU(Z, alpha=0.15):\n",
    "    return np.where(Z > 0, 1, alpha)\n",
    "\n",
    "def leaky_ReLU(Z, alpha=0.15):\n",
    "    return np.where(Z > 0, Z, alpha * Z)\n",
    "\n",
    "def softMax(Z):\n",
    "    \"\"\"\n",
    "    The change ensures numerical stability by subtracting the maximum value from Z before exponentiating\n",
    "    \"\"\"\n",
    "    e = np.exp(Z - np.max(Z))\n",
    "    return e / e.sum(axis=0)\n",
    "\n",
    "def one_hot(Y):\n",
    "    \"\"\"\n",
    "    Y.max - the maximum value in the array. Used to determine the number of classes (0-9)\n",
    "    Y.size - the size itself\n",
    "    one_hot_y creates a one-hot encoded matrix\n",
    "    where each column represents a sample, and the row corresponding \n",
    "    to the class label of that sample is set to 1. \n",
    "    \"\"\"\n",
    "    if Y.max() + 1 == 10:\n",
    "        one_hot_y = np.zeros((Y.max()+1, Y.size))\n",
    "    else:\n",
    "        one_hot_y = np.zeros((Y.max()+2, Y.size))\n",
    "    one_hot_y[Y, np.arange(Y.size)] = 1\n",
    "    return one_hot_y"
   ]
  },
  {
   "cell_type": "code",
   "execution_count": 5,
   "id": "832d088e",
   "metadata": {},
   "outputs": [],
   "source": [
    "def forward_prop(X, W1, b1, W2, b2, W3, b3, W4, b4):\n",
    "    Z1 = W1.dot(X) + b1\n",
    "    A1 = leaky_ReLU(Z1)\n",
    "    Z2 = W2.dot(A1) + b2\n",
    "    A2 = leaky_ReLU(Z2)\n",
    "    Z3 = W3.dot(A2) + b3\n",
    "    A3 = leaky_ReLU(Z3)\n",
    "    Z4 = W4.dot(A3) + b4\n",
    "    A4 = softMax(Z4)\n",
    "\n",
    "    return Z1, A1, Z2, A2, Z3, A3, Z4, A4"
   ]
  },
  {
   "cell_type": "code",
   "execution_count": 6,
   "id": "490917e2",
   "metadata": {},
   "outputs": [],
   "source": [
    "def backward_prop(X, y, A1, A2, A3, A4, W1, W2, W3, W4, Z1, Z2, Z3, Z4, lamb, m):\n",
    "    encoded_y = one_hot(y)\n",
    "    dZ4 = A4 - encoded_y\n",
    "    dW4 = 1/m * (dZ4.dot(A3.T)) + (lamb/m) * W4\n",
    "    db4 = 1/m * dZ4.sum(axis=1)\n",
    "    \n",
    "    dZ3 = W4.T.dot(dZ4) * derivative_leaky_ReLU(Z3)\n",
    "    dW3 = 1/m * (dZ3.dot(A2.T)) + (lamb/m) * W3\n",
    "    db3 = 1/m * dZ3.sum(axis=1)\n",
    "    \n",
    "    dZ2 = W3.T.dot(dZ3) * derivative_leaky_ReLU(Z2)\n",
    "    dW2 = 1/m * (dZ2.dot(A1.T)) + (lamb/m) * W2\n",
    "    db2 = 1/m * dZ2.sum(axis=1)\n",
    "    \n",
    "    dZ1 = W2.T.dot(dZ2) * derivative_leaky_ReLU(Z1)\n",
    "    dW1 = 1/m * (dZ1.dot(X.T)) + (lamb/m) * W1\n",
    "    db1 = 1/m * dZ1.sum(axis=1)\n",
    "    \n",
    "    return dW1, db1, dW2, db2, dW3, db3, dW4, db4\n",
    "\n",
    "def update_params(alpha, W1, b1, W2, b2, W3, b3, W4, b4, dW1, db1, dW2, db2, dW3, db3, dW4, db4):\n",
    "    W1 -= alpha * dW1\n",
    "    b1 -= alpha * np.reshape(db1,(W1.shape[0], 1))\n",
    "    W2 -= alpha * dW2\n",
    "    b2 -= alpha * np.reshape(db2,(W2.shape[0], 1))\n",
    "    W3 -= alpha * dW3\n",
    "    b3 -= alpha * np.reshape(db3,(W3.shape[0], 1))\n",
    "    W4 -= alpha * dW4\n",
    "    b4 -= alpha * np.reshape(db4, (W4.shape[0], 1))\n",
    "    \n",
    "    return W1, b1, W2, b2, W3, b3, W4, b4"
   ]
  },
  {
   "cell_type": "markdown",
   "id": "465379ad",
   "metadata": {},
   "source": [
    "$$J(Y, A) = -\\frac{1}{m} \\sum_{i=1}^{m} \\sum_{j=0}^{9} Y_{ij} \\log(A_{ij})$$\n",
    "\n",
    "Y is the matrix of one-hot encoded true labels, with each row corresponding to a different example and each column corresponding to a different class (digit).\n",
    "A  is the matrix of predicted probabilities, where each row represents the predicted probabilities for each class (digit) for a specific example.\n",
    "m is the number of examples.\n",
    "There are 10 classes (digits 0 through 9), so the inner sum goes from $j=0$ to $j=9$\n",
    "\n",
    "$Y_{i,j}$ is the element in the i-th row and \n",
    "    j-th column of the one-hot encoded true labels matrix, indicating whether the true label for the \n",
    "    i-th example is the \n",
    "    j-th class (1 if true, 0 otherwise).\n",
    "    \n",
    "$A_{i,j}$ is the element in the i-th row and \n",
    "        j-th column of the predicted probabilities matrix, representing the predicted probability of the i-th example belonging to the j-th class.\n",
    "        \n",
    "The goal during training is to minimize this cross-entropy loss by adjusting the model's parameters through techniques like gradient descent.\n",
    "$$\\frac{\\partial J}{\\partial Z^{[3]}} = A^{[3]} - Y$$\n",
    "$$\\frac{\\partial J}{\\partial b^{[3]}} = \\frac{1}{m} \\sum_{i=1}^{m} (A^{[3](i)} - Y^{(i)})$$\n",
    "\n",
    "$$\\frac{\\partial J}{\\partial W^{[3]}} = \\frac{1}{m} A^{[2]T} (A^{[3]} - Y) + \\frac{\\lambda}{m} W^{[3]}$$"
   ]
  },
  {
   "cell_type": "code",
   "execution_count": 7,
   "id": "6c49ff45",
   "metadata": {},
   "outputs": [],
   "source": [
    "def get_predictions(A4):\n",
    "    return np.argmax(A4, 0)\n",
    "\n",
    "def get_accuracy(predictions, Y):\n",
    "    return np.sum(predictions == Y)/Y.size"
   ]
  },
  {
   "cell_type": "code",
   "execution_count": 73,
   "id": "f5b3d6d0",
   "metadata": {},
   "outputs": [],
   "source": [
    "def stochastic_gradient_descent(X, y, alpha, lamb, epochs, batch_size):\n",
    "    W1, b1, W2, b2, W3, b3, W4, b4, _  = initialize()\n",
    "    size, m = X.shape\n",
    "    st = time.time()\n",
    "    for epoch in range(epochs):\n",
    "        shuffled_indices = np.random.permutation(m)\n",
    "        X_shuffled = X[:, shuffled_indices]\n",
    "        y_shuffled = y[shuffled_indices]\n",
    "        for i in range(0, m, batch_size):\n",
    "            x_mini_batch = X_shuffled[:,i:i+batch_size]\n",
    "            y_mini_batch = y_shuffled[i: i+batch_size]\n",
    "\n",
    "            Z1, A1, Z2, A2, Z3, A3, Z4, A4 = forward_prop(x_mini_batch, W1, b1, W2, b2, W3, b3, W4, b4)\n",
    "            dW1, db1, dW2, db2, dW3, db3, dW4, db4 = \\\n",
    "            backward_prop( \\\n",
    "                x_mini_batch, y_mini_batch, A1, A2, A3, A4, W1, W2, W3, W4, Z1, Z2, Z3, Z4, lamb, batch_size \\\n",
    "            )\n",
    "            W1, b1, W2, b2, W3, b3, W4, b4 = update_params(\n",
    "                alpha, W1, b1, W2, b2, W3, b3, W4, b4, dW1, db1, dW2, db2, dW3, db3, dW4, db4\n",
    "            )\n",
    "          \n",
    "            if (i+batch_size) % int(m/10) == 0:\n",
    "                print(f\"Backprop. Iteration - {i+batch_size} / {m}\")\n",
    "                prediction = get_predictions(A4)\n",
    "                print(f'{get_accuracy(prediction, y_mini_batch):.3%}')\n",
    "                \n",
    "        full_prediction = make_predictions(X, W1, b1, W2, b2, W3, b3, W4, b4)\n",
    "        epoch_accuracy = get_accuracy(full_prediction, y)\n",
    "        print(f'Epoch {epoch}th finished. Time spent - {(time.time()-st):.2f}. Accuracy score - {epoch_accuracy:.3%}')\n",
    "    return W1, b1, W2, b2, W3, b3, W4, b4"
   ]
  },
  {
   "cell_type": "code",
   "execution_count": 20,
   "id": "9536fffe",
   "metadata": {},
   "outputs": [],
   "source": [
    "def make_predictions(X, W1 ,b1, W2, b2, W3, b3, W4, b4):\n",
    "    _, _, _, _, _, _, _, A4 = forward_prop(X, W1, b1, W2, b2, W3, b3, W4, b4)\n",
    "    predictions = get_predictions(A4)\n",
    "    return predictions\n",
    "\n",
    "def show_prediction(index,X, Y, W1, b1, W2, b2, W3, b3, W4, b4):\n",
    "    vect_X = X[:, index,None]\n",
    "    prediction = make_predictions(vect_X, W1, b1, W2, b2, W3, b3, W4, b4)\n",
    "    label = Y[index]\n",
    "    print(\"Prediction: \", prediction)\n",
    "    print(\"Label: \", label)\n",
    "\n",
    "    current_image = vect_X.reshape((WIDTH, HEIGHT)) * SCALE_FACTOR\n",
    "\n",
    "    plt.gray()\n",
    "    plt.imshow(current_image, interpolation='nearest')\n",
    "    plt.show()"
   ]
  },
  {
   "cell_type": "code",
   "execution_count": 24,
   "id": "1342071a",
   "metadata": {},
   "outputs": [
    {
     "name": "stdout",
     "output_type": "stream",
     "text": [
      "Backprop. Iteration - 24000 / 60000\n",
      "96.875%\n",
      "Backprop. Iteration - 48000 / 60000\n",
      "93.750%\n",
      "Epoch 0th finished. Time spent - 1.51. Accuracy score - 95.390%\n",
      "Backprop. Iteration - 24000 / 60000\n",
      "92.188%\n",
      "Backprop. Iteration - 48000 / 60000\n",
      "98.438%\n",
      "Epoch 1th finished. Time spent - 3.24. Accuracy score - 97.320%\n",
      "Backprop. Iteration - 24000 / 60000\n",
      "98.438%\n",
      "Backprop. Iteration - 48000 / 60000\n",
      "100.000%\n",
      "Epoch 2th finished. Time spent - 4.82. Accuracy score - 97.268%\n",
      "Backprop. Iteration - 24000 / 60000\n",
      "98.438%\n",
      "Backprop. Iteration - 48000 / 60000\n",
      "100.000%\n",
      "Epoch 3th finished. Time spent - 6.48. Accuracy score - 98.203%\n",
      "Backprop. Iteration - 24000 / 60000\n",
      "95.312%\n",
      "Backprop. Iteration - 48000 / 60000\n",
      "100.000%\n",
      "Epoch 4th finished. Time spent - 7.97. Accuracy score - 97.870%\n",
      "Backprop. Iteration - 24000 / 60000\n",
      "100.000%\n",
      "Backprop. Iteration - 48000 / 60000\n",
      "100.000%\n",
      "Epoch 5th finished. Time spent - 9.60. Accuracy score - 98.573%\n",
      "Backprop. Iteration - 24000 / 60000\n",
      "96.875%\n",
      "Backprop. Iteration - 48000 / 60000\n",
      "98.438%\n",
      "Epoch 6th finished. Time spent - 10.96. Accuracy score - 98.968%\n",
      "Backprop. Iteration - 24000 / 60000\n",
      "96.875%\n",
      "Backprop. Iteration - 48000 / 60000\n",
      "100.000%\n",
      "Epoch 7th finished. Time spent - 12.27. Accuracy score - 98.892%\n",
      "Backprop. Iteration - 24000 / 60000\n",
      "100.000%\n",
      "Backprop. Iteration - 48000 / 60000\n",
      "98.438%\n",
      "Epoch 8th finished. Time spent - 13.79. Accuracy score - 99.143%\n",
      "Backprop. Iteration - 24000 / 60000\n",
      "100.000%\n",
      "Backprop. Iteration - 48000 / 60000\n",
      "100.000%\n",
      "Epoch 9th finished. Time spent - 15.21. Accuracy score - 98.440%\n",
      "Backprop. Iteration - 24000 / 60000\n",
      "96.875%\n",
      "Backprop. Iteration - 48000 / 60000\n",
      "96.875%\n",
      "Epoch 10th finished. Time spent - 16.88. Accuracy score - 99.508%\n",
      "Backprop. Iteration - 24000 / 60000\n",
      "98.438%\n",
      "Backprop. Iteration - 48000 / 60000\n",
      "100.000%\n",
      "Epoch 11th finished. Time spent - 19.03. Accuracy score - 99.408%\n",
      "Backprop. Iteration - 24000 / 60000\n",
      "98.438%\n",
      "Backprop. Iteration - 48000 / 60000\n",
      "100.000%\n",
      "Epoch 12th finished. Time spent - 20.51. Accuracy score - 99.503%\n",
      "Backprop. Iteration - 24000 / 60000\n",
      "98.438%\n",
      "Backprop. Iteration - 48000 / 60000\n",
      "100.000%\n",
      "Epoch 13th finished. Time spent - 22.01. Accuracy score - 99.285%\n",
      "Backprop. Iteration - 24000 / 60000\n",
      "100.000%\n",
      "Backprop. Iteration - 48000 / 60000\n",
      "92.188%\n",
      "Epoch 14th finished. Time spent - 23.81. Accuracy score - 99.377%\n",
      "Backprop. Iteration - 24000 / 60000\n",
      "98.438%\n",
      "Backprop. Iteration - 48000 / 60000\n",
      "98.438%\n",
      "Epoch 15th finished. Time spent - 25.44. Accuracy score - 99.583%\n",
      "Backprop. Iteration - 24000 / 60000\n",
      "98.438%\n",
      "Backprop. Iteration - 48000 / 60000\n",
      "100.000%\n",
      "Epoch 16th finished. Time spent - 26.87. Accuracy score - 99.627%\n",
      "Backprop. Iteration - 24000 / 60000\n",
      "98.438%\n",
      "Backprop. Iteration - 48000 / 60000\n",
      "100.000%\n",
      "Epoch 17th finished. Time spent - 28.47. Accuracy score - 99.613%\n",
      "Backprop. Iteration - 24000 / 60000\n",
      "100.000%\n",
      "Backprop. Iteration - 48000 / 60000\n",
      "100.000%\n",
      "Epoch 18th finished. Time spent - 30.40. Accuracy score - 99.640%\n",
      "Backprop. Iteration - 24000 / 60000\n",
      "100.000%\n",
      "Backprop. Iteration - 48000 / 60000\n",
      "100.000%\n",
      "Epoch 19th finished. Time spent - 32.19. Accuracy score - 99.128%\n",
      "Backprop. Iteration - 24000 / 60000\n",
      "98.438%\n",
      "Backprop. Iteration - 48000 / 60000\n",
      "100.000%\n",
      "Epoch 20th finished. Time spent - 33.76. Accuracy score - 99.678%\n",
      "Backprop. Iteration - 24000 / 60000\n",
      "100.000%\n",
      "Backprop. Iteration - 48000 / 60000\n",
      "100.000%\n",
      "Epoch 21th finished. Time spent - 35.79. Accuracy score - 99.838%\n",
      "Backprop. Iteration - 24000 / 60000\n",
      "100.000%\n",
      "Backprop. Iteration - 48000 / 60000\n",
      "98.438%\n",
      "Epoch 22th finished. Time spent - 37.76. Accuracy score - 99.922%\n",
      "Backprop. Iteration - 24000 / 60000\n",
      "100.000%\n",
      "Backprop. Iteration - 48000 / 60000\n",
      "95.312%\n",
      "Epoch 23th finished. Time spent - 39.22. Accuracy score - 99.822%\n",
      "Backprop. Iteration - 24000 / 60000\n",
      "100.000%\n",
      "Backprop. Iteration - 48000 / 60000\n",
      "100.000%\n",
      "Epoch 24th finished. Time spent - 40.77. Accuracy score - 99.683%\n",
      "Backprop. Iteration - 24000 / 60000\n",
      "100.000%\n",
      "Backprop. Iteration - 48000 / 60000\n",
      "100.000%\n",
      "Epoch 25th finished. Time spent - 42.26. Accuracy score - 98.457%\n",
      "Backprop. Iteration - 24000 / 60000\n",
      "100.000%\n",
      "Backprop. Iteration - 48000 / 60000\n",
      "100.000%\n",
      "Epoch 26th finished. Time spent - 43.63. Accuracy score - 99.757%\n",
      "Backprop. Iteration - 24000 / 60000\n",
      "100.000%\n",
      "Backprop. Iteration - 48000 / 60000\n",
      "98.438%\n",
      "Epoch 27th finished. Time spent - 44.96. Accuracy score - 99.723%\n",
      "Backprop. Iteration - 24000 / 60000\n",
      "100.000%\n",
      "Backprop. Iteration - 48000 / 60000\n",
      "100.000%\n",
      "Epoch 28th finished. Time spent - 47.04. Accuracy score - 99.952%\n",
      "Backprop. Iteration - 24000 / 60000\n",
      "100.000%\n",
      "Backprop. Iteration - 48000 / 60000\n",
      "100.000%\n",
      "Epoch 29th finished. Time spent - 48.55. Accuracy score - 99.818%\n",
      "Backprop. Iteration - 24000 / 60000\n",
      "100.000%\n",
      "Backprop. Iteration - 48000 / 60000\n",
      "98.438%\n",
      "Epoch 30th finished. Time spent - 50.22. Accuracy score - 99.288%\n",
      "Backprop. Iteration - 24000 / 60000\n",
      "100.000%\n",
      "Backprop. Iteration - 48000 / 60000\n",
      "96.875%\n",
      "Epoch 31th finished. Time spent - 52.06. Accuracy score - 99.215%\n",
      "Backprop. Iteration - 24000 / 60000\n",
      "100.000%\n",
      "Backprop. Iteration - 48000 / 60000\n",
      "98.438%\n",
      "Epoch 32th finished. Time spent - 54.03. Accuracy score - 98.042%\n",
      "Backprop. Iteration - 24000 / 60000\n",
      "100.000%\n",
      "Backprop. Iteration - 48000 / 60000\n",
      "100.000%\n",
      "Epoch 33th finished. Time spent - 55.63. Accuracy score - 99.555%\n",
      "Backprop. Iteration - 24000 / 60000\n",
      "100.000%\n",
      "Backprop. Iteration - 48000 / 60000\n",
      "100.000%\n",
      "Epoch 34th finished. Time spent - 57.30. Accuracy score - 99.807%\n",
      "Prediction:  [7]\n",
      "Label:  7\n"
     ]
    },
    {
     "data": {
      "image/png": "[encoded data removed]",
      "text/plain": [
       "<Figure size 640x480 with 1 Axes>"
      ]
     },
     "metadata": {},
     "output_type": "display_data"
    },
    {
     "name": "stdout",
     "output_type": "stream",
     "text": [
      "Prediction:  [2]\n",
      "Label:  2\n"
     ]
    },
    {
     "data": {
      "image/png": "[encoded data removed]",
      "text/plain": [
       "<Figure size 640x480 with 1 Axes>"
      ]
     },
     "metadata": {},
     "output_type": "display_data"
    },
    {
     "name": "stdout",
     "output_type": "stream",
     "text": [
      "Prediction:  [1]\n",
      "Label:  1\n"
     ]
    },
    {
     "data": {
      "image/png": "[encoded data removed]",
      "text/plain": [
       "<Figure size 640x480 with 1 Axes>"
      ]
     },
     "metadata": {},
     "output_type": "display_data"
    },
    {
     "name": "stdout",
     "output_type": "stream",
     "text": [
      "Prediction:  [6]\n",
      "Label:  6\n"
     ]
    },
    {
     "data": {
      "image/png": "[encoded data removed]",
      "text/plain": [
       "<Figure size 640x480 with 1 Axes>"
      ]
     },
     "metadata": {},
     "output_type": "display_data"
    },
    {
     "name": "stdout",
     "output_type": "stream",
     "text": [
      "Prediction:  [3]\n",
      "Label:  3\n"
     ]
    },
    {
     "data": {
      "image/png": "[encoded data removed]",
      "text/plain": [
       "<Figure size 640x480 with 1 Axes>"
      ]
     },
     "metadata": {},
     "output_type": "display_data"
    }
   ],
   "source": [
    "(X_train, Y_train), (X_test, Y_test) = mnist.load_data()\n",
    "SCALE_FACTOR = 255\n",
    "WIDTH = X_train.shape[1]\n",
    "HEIGHT = X_train.shape[2]\n",
    "X_train = X_train.reshape(X_train.shape[0],WIDTH*HEIGHT).T / SCALE_FACTOR\n",
    "X_test = X_test.reshape(X_test.shape[0],WIDTH*HEIGHT).T  / SCALE_FACTOR\n",
    "    \n",
    "W1, b1, W2, b2, W3, b3, W4, b4 = stochastic_gradient_descent(X_train, Y_train, 0.2, 0.01, 35, 64)\n",
    "\n",
    "show_prediction(0,X_test, Y_test, W1, b1, W2, b2, W3, b3, W4, b4)\n",
    "show_prediction(1,X_test, Y_test, W1, b1, W2, b2, W3, b3, W4, b4)\n",
    "show_prediction(2,X_test, Y_test, W1, b1, W2, b2, W3, b3, W4, b4)\n",
    "show_prediction(100,X_test, Y_test, W1, b1, W2, b2, W3, b3, W4, b4)\n",
    "show_prediction(200,X_test, Y_test, W1, b1, W2, b2, W3, b3, W4, b4)"
   ]
  },
  {
   "cell_type": "code",
   "execution_count": 31,
   "id": "164bef7e",
   "metadata": {},
   "outputs": [],
   "source": [
    "saved_xtrain, saved_ytrain = X_train, Y_train"
   ]
  },
  {
   "cell_type": "code",
   "execution_count": 25,
   "id": "aca1c0cb",
   "metadata": {},
   "outputs": [
    {
     "data": {
      "text/plain": [
       "0.9789"
      ]
     },
     "execution_count": 25,
     "metadata": {},
     "output_type": "execute_result"
    }
   ],
   "source": [
    "preds = make_predictions(X_test,  W1, b1, W2, b2, W3, b3, W4, b4)\n",
    "get_accuracy(preds, Y_test)\n",
    "\n",
    "# 97.42% the best result\n",
    "# 96.36% with adam\n",
    "# 98.38% best result with 35 epochs (more epochs do not really improve anymore)"
   ]
  },
  {
   "cell_type": "code",
   "execution_count": 30,
   "id": "c892c78e",
   "metadata": {},
   "outputs": [
    {
     "data": {
      "text/html": [
       "<div>\n",
       "<style scoped>\n",
       "    .dataframe tbody tr th:only-of-type {\n",
       "        vertical-align: middle;\n",
       "    }\n",
       "\n",
       "    .dataframe tbody tr th {\n",
       "        vertical-align: top;\n",
       "    }\n",
       "\n",
       "    .dataframe thead th {\n",
       "        text-align: right;\n",
       "    }\n",
       "</style>\n",
       "<table border=\"1\" class=\"dataframe\">\n",
       "  <thead>\n",
       "    <tr style=\"text-align: right;\">\n",
       "      <th></th>\n",
       "      <th>label</th>\n",
       "      <th>pixel0</th>\n",
       "      <th>pixel1</th>\n",
       "      <th>pixel2</th>\n",
       "      <th>pixel3</th>\n",
       "      <th>pixel4</th>\n",
       "      <th>pixel5</th>\n",
       "      <th>pixel6</th>\n",
       "      <th>pixel7</th>\n",
       "      <th>pixel8</th>\n",
       "      <th>...</th>\n",
       "      <th>pixel774</th>\n",
       "      <th>pixel775</th>\n",
       "      <th>pixel776</th>\n",
       "      <th>pixel777</th>\n",
       "      <th>pixel778</th>\n",
       "      <th>pixel779</th>\n",
       "      <th>pixel780</th>\n",
       "      <th>pixel781</th>\n",
       "      <th>pixel782</th>\n",
       "      <th>pixel783</th>\n",
       "    </tr>\n",
       "  </thead>\n",
       "  <tbody>\n",
       "    <tr>\n",
       "      <th>0</th>\n",
       "      <td>1</td>\n",
       "      <td>0</td>\n",
       "      <td>0</td>\n",
       "      <td>0</td>\n",
       "      <td>0</td>\n",
       "      <td>0</td>\n",
       "      <td>0</td>\n",
       "      <td>0</td>\n",
       "      <td>0</td>\n",
       "      <td>0</td>\n",
       "      <td>...</td>\n",
       "      <td>0</td>\n",
       "      <td>0</td>\n",
       "      <td>0</td>\n",
       "      <td>0</td>\n",
       "      <td>0</td>\n",
       "      <td>0</td>\n",
       "      <td>0</td>\n",
       "      <td>0</td>\n",
       "      <td>0</td>\n",
       "      <td>0</td>\n",
       "    </tr>\n",
       "    <tr>\n",
       "      <th>1</th>\n",
       "      <td>0</td>\n",
       "      <td>0</td>\n",
       "      <td>0</td>\n",
       "      <td>0</td>\n",
       "      <td>0</td>\n",
       "      <td>0</td>\n",
       "      <td>0</td>\n",
       "      <td>0</td>\n",
       "      <td>0</td>\n",
       "      <td>0</td>\n",
       "      <td>...</td>\n",
       "      <td>0</td>\n",
       "      <td>0</td>\n",
       "      <td>0</td>\n",
       "      <td>0</td>\n",
       "      <td>0</td>\n",
       "      <td>0</td>\n",
       "      <td>0</td>\n",
       "      <td>0</td>\n",
       "      <td>0</td>\n",
       "      <td>0</td>\n",
       "    </tr>\n",
       "    <tr>\n",
       "      <th>2</th>\n",
       "      <td>1</td>\n",
       "      <td>0</td>\n",
       "      <td>0</td>\n",
       "      <td>0</td>\n",
       "      <td>0</td>\n",
       "      <td>0</td>\n",
       "      <td>0</td>\n",
       "      <td>0</td>\n",
       "      <td>0</td>\n",
       "      <td>0</td>\n",
       "      <td>...</td>\n",
       "      <td>0</td>\n",
       "      <td>0</td>\n",
       "      <td>0</td>\n",
       "      <td>0</td>\n",
       "      <td>0</td>\n",
       "      <td>0</td>\n",
       "      <td>0</td>\n",
       "      <td>0</td>\n",
       "      <td>0</td>\n",
       "      <td>0</td>\n",
       "    </tr>\n",
       "    <tr>\n",
       "      <th>3</th>\n",
       "      <td>4</td>\n",
       "      <td>0</td>\n",
       "      <td>0</td>\n",
       "      <td>0</td>\n",
       "      <td>0</td>\n",
       "      <td>0</td>\n",
       "      <td>0</td>\n",
       "      <td>0</td>\n",
       "      <td>0</td>\n",
       "      <td>0</td>\n",
       "      <td>...</td>\n",
       "      <td>0</td>\n",
       "      <td>0</td>\n",
       "      <td>0</td>\n",
       "      <td>0</td>\n",
       "      <td>0</td>\n",
       "      <td>0</td>\n",
       "      <td>0</td>\n",
       "      <td>0</td>\n",
       "      <td>0</td>\n",
       "      <td>0</td>\n",
       "    </tr>\n",
       "    <tr>\n",
       "      <th>4</th>\n",
       "      <td>0</td>\n",
       "      <td>0</td>\n",
       "      <td>0</td>\n",
       "      <td>0</td>\n",
       "      <td>0</td>\n",
       "      <td>0</td>\n",
       "      <td>0</td>\n",
       "      <td>0</td>\n",
       "      <td>0</td>\n",
       "      <td>0</td>\n",
       "      <td>...</td>\n",
       "      <td>0</td>\n",
       "      <td>0</td>\n",
       "      <td>0</td>\n",
       "      <td>0</td>\n",
       "      <td>0</td>\n",
       "      <td>0</td>\n",
       "      <td>0</td>\n",
       "      <td>0</td>\n",
       "      <td>0</td>\n",
       "      <td>0</td>\n",
       "    </tr>\n",
       "    <tr>\n",
       "      <th>...</th>\n",
       "      <td>...</td>\n",
       "      <td>...</td>\n",
       "      <td>...</td>\n",
       "      <td>...</td>\n",
       "      <td>...</td>\n",
       "      <td>...</td>\n",
       "      <td>...</td>\n",
       "      <td>...</td>\n",
       "      <td>...</td>\n",
       "      <td>...</td>\n",
       "      <td>...</td>\n",
       "      <td>...</td>\n",
       "      <td>...</td>\n",
       "      <td>...</td>\n",
       "      <td>...</td>\n",
       "      <td>...</td>\n",
       "      <td>...</td>\n",
       "      <td>...</td>\n",
       "      <td>...</td>\n",
       "      <td>...</td>\n",
       "      <td>...</td>\n",
       "    </tr>\n",
       "    <tr>\n",
       "      <th>41995</th>\n",
       "      <td>0</td>\n",
       "      <td>0</td>\n",
       "      <td>0</td>\n",
       "      <td>0</td>\n",
       "      <td>0</td>\n",
       "      <td>0</td>\n",
       "      <td>0</td>\n",
       "      <td>0</td>\n",
       "      <td>0</td>\n",
       "      <td>0</td>\n",
       "      <td>...</td>\n",
       "      <td>0</td>\n",
       "      <td>0</td>\n",
       "      <td>0</td>\n",
       "      <td>0</td>\n",
       "      <td>0</td>\n",
       "      <td>0</td>\n",
       "      <td>0</td>\n",
       "      <td>0</td>\n",
       "      <td>0</td>\n",
       "      <td>0</td>\n",
       "    </tr>\n",
       "    <tr>\n",
       "      <th>41996</th>\n",
       "      <td>1</td>\n",
       "      <td>0</td>\n",
       "      <td>0</td>\n",
       "      <td>0</td>\n",
       "      <td>0</td>\n",
       "      <td>0</td>\n",
       "      <td>0</td>\n",
       "      <td>0</td>\n",
       "      <td>0</td>\n",
       "      <td>0</td>\n",
       "      <td>...</td>\n",
       "      <td>0</td>\n",
       "      <td>0</td>\n",
       "      <td>0</td>\n",
       "      <td>0</td>\n",
       "      <td>0</td>\n",
       "      <td>0</td>\n",
       "      <td>0</td>\n",
       "      <td>0</td>\n",
       "      <td>0</td>\n",
       "      <td>0</td>\n",
       "    </tr>\n",
       "    <tr>\n",
       "      <th>41997</th>\n",
       "      <td>7</td>\n",
       "      <td>0</td>\n",
       "      <td>0</td>\n",
       "      <td>0</td>\n",
       "      <td>0</td>\n",
       "      <td>0</td>\n",
       "      <td>0</td>\n",
       "      <td>0</td>\n",
       "      <td>0</td>\n",
       "      <td>0</td>\n",
       "      <td>...</td>\n",
       "      <td>0</td>\n",
       "      <td>0</td>\n",
       "      <td>0</td>\n",
       "      <td>0</td>\n",
       "      <td>0</td>\n",
       "      <td>0</td>\n",
       "      <td>0</td>\n",
       "      <td>0</td>\n",
       "      <td>0</td>\n",
       "      <td>0</td>\n",
       "    </tr>\n",
       "    <tr>\n",
       "      <th>41998</th>\n",
       "      <td>6</td>\n",
       "      <td>0</td>\n",
       "      <td>0</td>\n",
       "      <td>0</td>\n",
       "      <td>0</td>\n",
       "      <td>0</td>\n",
       "      <td>0</td>\n",
       "      <td>0</td>\n",
       "      <td>0</td>\n",
       "      <td>0</td>\n",
       "      <td>...</td>\n",
       "      <td>0</td>\n",
       "      <td>0</td>\n",
       "      <td>0</td>\n",
       "      <td>0</td>\n",
       "      <td>0</td>\n",
       "      <td>0</td>\n",
       "      <td>0</td>\n",
       "      <td>0</td>\n",
       "      <td>0</td>\n",
       "      <td>0</td>\n",
       "    </tr>\n",
       "    <tr>\n",
       "      <th>41999</th>\n",
       "      <td>9</td>\n",
       "      <td>0</td>\n",
       "      <td>0</td>\n",
       "      <td>0</td>\n",
       "      <td>0</td>\n",
       "      <td>0</td>\n",
       "      <td>0</td>\n",
       "      <td>0</td>\n",
       "      <td>0</td>\n",
       "      <td>0</td>\n",
       "      <td>...</td>\n",
       "      <td>0</td>\n",
       "      <td>0</td>\n",
       "      <td>0</td>\n",
       "      <td>0</td>\n",
       "      <td>0</td>\n",
       "      <td>0</td>\n",
       "      <td>0</td>\n",
       "      <td>0</td>\n",
       "      <td>0</td>\n",
       "      <td>0</td>\n",
       "    </tr>\n",
       "  </tbody>\n",
       "</table>\n",
       "<p>42000 rows × 785 columns</p>\n",
       "</div>"
      ],
      "text/plain": [
       "       label  pixel0  pixel1  pixel2  pixel3  pixel4  pixel5  pixel6  pixel7  \\\n",
       "0          1       0       0       0       0       0       0       0       0   \n",
       "1          0       0       0       0       0       0       0       0       0   \n",
       "2          1       0       0       0       0       0       0       0       0   \n",
       "3          4       0       0       0       0       0       0       0       0   \n",
       "4          0       0       0       0       0       0       0       0       0   \n",
       "...      ...     ...     ...     ...     ...     ...     ...     ...     ...   \n",
       "41995      0       0       0       0       0       0       0       0       0   \n",
       "41996      1       0       0       0       0       0       0       0       0   \n",
       "41997      7       0       0       0       0       0       0       0       0   \n",
       "41998      6       0       0       0       0       0       0       0       0   \n",
       "41999      9       0       0       0       0       0       0       0       0   \n",
       "\n",
       "       pixel8  ...  pixel774  pixel775  pixel776  pixel777  pixel778  \\\n",
       "0           0  ...         0         0         0         0         0   \n",
       "1           0  ...         0         0         0         0         0   \n",
       "2           0  ...         0         0         0         0         0   \n",
       "3           0  ...         0         0         0         0         0   \n",
       "4           0  ...         0         0         0         0         0   \n",
       "...       ...  ...       ...       ...       ...       ...       ...   \n",
       "41995       0  ...         0         0         0         0         0   \n",
       "41996       0  ...         0         0         0         0         0   \n",
       "41997       0  ...         0         0         0         0         0   \n",
       "41998       0  ...         0         0         0         0         0   \n",
       "41999       0  ...         0         0         0         0         0   \n",
       "\n",
       "       pixel779  pixel780  pixel781  pixel782  pixel783  \n",
       "0             0         0         0         0         0  \n",
       "1             0         0         0         0         0  \n",
       "2             0         0         0         0         0  \n",
       "3             0         0         0         0         0  \n",
       "4             0         0         0         0         0  \n",
       "...         ...       ...       ...       ...       ...  \n",
       "41995         0         0         0         0         0  \n",
       "41996         0         0         0         0         0  \n",
       "41997         0         0         0         0         0  \n",
       "41998         0         0         0         0         0  \n",
       "41999         0         0         0         0         0  \n",
       "\n",
       "[42000 rows x 785 columns]"
      ]
     },
     "execution_count": 30,
     "metadata": {},
     "output_type": "execute_result"
    }
   ],
   "source": [
    "\n",
    "df = pd.read_csv('digitRecognizer/digit-recognizer/train.csv')\n",
    "\n",
    "df"
   ]
  },
  {
   "cell_type": "code",
   "execution_count": 55,
   "id": "cb576a82",
   "metadata": {},
   "outputs": [],
   "source": [
    "from sklearn.model_selection import train_test_split\n",
    "\n",
    "X, y = df.iloc[:, 1:].to_numpy(), pd.get_dummies(df.iloc[:, 0]).to_numpy()\n",
    "\n",
    "X_train, X_test, y_train, y_test = train_test_split(X, y, test_size=0.1)\n"
   ]
  },
  {
   "cell_type": "code",
   "execution_count": 64,
   "id": "b6a83f2c",
   "metadata": {
    "scrolled": true
   },
   "outputs": [
    {
     "name": "stdout",
     "output_type": "stream",
     "text": [
      "(37800, 784)\n"
     ]
    },
    {
     "ename": "TypeError",
     "evalue": "cannot unpack non-iterable int object",
     "output_type": "error",
     "traceback": [
      "\u001b[0;31m---------------------------------------------------------------------------\u001b[0m",
      "\u001b[0;31mTypeError\u001b[0m                                 Traceback (most recent call last)",
      "Cell \u001b[0;32mIn[64], line 1\u001b[0m\n\u001b[0;32m----> 1\u001b[0m W1, b1, W2, b2, W3, b3, W4, b4 \u001b[38;5;241m=\u001b[39m \u001b[43mstochastic_gradient_descent\u001b[49m\u001b[43m(\u001b[49m\u001b[43mX_train\u001b[49m\u001b[43m,\u001b[49m\u001b[43m \u001b[49m\u001b[43mY_train\u001b[49m\u001b[43m,\u001b[49m\u001b[43m \u001b[49m\u001b[38;5;241;43m0.2\u001b[39;49m\u001b[43m,\u001b[49m\u001b[43m \u001b[49m\u001b[38;5;241;43m0.01\u001b[39;49m\u001b[43m,\u001b[49m\u001b[43m \u001b[49m\u001b[38;5;241;43m35\u001b[39;49m\u001b[43m,\u001b[49m\u001b[43m \u001b[49m\u001b[38;5;241;43m64\u001b[39;49m\u001b[43m)\u001b[49m\n",
      "Cell \u001b[0;32mIn[63], line 4\u001b[0m, in \u001b[0;36mstochastic_gradient_descent\u001b[0;34m(X, y, alpha, lamb, epochs, batch_size)\u001b[0m\n\u001b[1;32m      2\u001b[0m W1, b1, W2, b2, W3, b3, W4, b4, _  \u001b[38;5;241m=\u001b[39m initialize()\n\u001b[1;32m      3\u001b[0m \u001b[38;5;28mprint\u001b[39m(X\u001b[38;5;241m.\u001b[39mshape)\n\u001b[0;32m----> 4\u001b[0m size, m \u001b[38;5;241m=\u001b[39m X\u001b[38;5;241m.\u001b[39mshape[\u001b[38;5;241m1\u001b[39m]\n\u001b[1;32m      5\u001b[0m st \u001b[38;5;241m=\u001b[39m time\u001b[38;5;241m.\u001b[39mtime()\n\u001b[1;32m      6\u001b[0m \u001b[38;5;28;01mfor\u001b[39;00m epoch \u001b[38;5;129;01min\u001b[39;00m \u001b[38;5;28mrange\u001b[39m(epochs):\n",
      "\u001b[0;31mTypeError\u001b[0m: cannot unpack non-iterable int object"
     ]
    }
   ],
   "source": [
    "W1, b1, W2, b2, W3, b3, W4, b4 = stochastic_gradient_descent(X_train, Y_train, 0.2, 0.01, 35, 64)"
   ]
  },
  {
   "cell_type": "code",
   "execution_count": 56,
   "id": "949e5070",
   "metadata": {},
   "outputs": [],
   "source": [
    "SCALE_FACTOR = 255\n",
    "WIDTH = X_train.shape[0]\n",
    "HEIGHT = X_train.shape[1]"
   ]
  },
  {
   "cell_type": "code",
   "execution_count": 57,
   "id": "483380ef",
   "metadata": {},
   "outputs": [
    {
     "data": {
      "text/plain": [
       "(784, 60000)"
      ]
     },
     "execution_count": 57,
     "metadata": {},
     "output_type": "execute_result"
    }
   ],
   "source": [
    "saved_xtrain.shape"
   ]
  },
  {
   "cell_type": "code",
   "execution_count": 58,
   "id": "6ccfd0a6",
   "metadata": {},
   "outputs": [
    {
     "data": {
      "text/plain": [
       "(4200, 784)"
      ]
     },
     "execution_count": 58,
     "metadata": {},
     "output_type": "execute_result"
    }
   ],
   "source": [
    "X_test.shape"
   ]
  },
  {
   "cell_type": "code",
   "execution_count": 59,
   "id": "ca4061f5",
   "metadata": {},
   "outputs": [],
   "source": [
    "X_test_reshaped = np.reshape(X_test, (784, 4200))"
   ]
  },
  {
   "cell_type": "code",
   "execution_count": 60,
   "id": "bf48deff",
   "metadata": {},
   "outputs": [],
   "source": [
    "x_train_reshaped = np.reshape(X_train, (784, 37800))"
   ]
  },
  {
   "cell_type": "code",
   "execution_count": 61,
   "id": "41b0fdd5",
   "metadata": {},
   "outputs": [
    {
     "data": {
      "text/plain": [
       "(784, 37800)"
      ]
     },
     "execution_count": 61,
     "metadata": {},
     "output_type": "execute_result"
    }
   ],
   "source": [
    "x_train_reshaped.shape"
   ]
  },
  {
   "cell_type": "code",
   "execution_count": 17,
   "id": "68ecb15b",
   "metadata": {},
   "outputs": [
    {
     "name": "stdout",
     "output_type": "stream",
     "text": [
      "0.9792090403467206\n",
      "0.9793279008836372\n",
      "0.9792858689745332\n"
     ]
    }
   ],
   "source": [
    "from sklearn.metrics import f1_score, precision_score, recall_score\n",
    "print(f1_score(preds, Y_test, average='macro'))\n",
    "print(precision_score(preds, Y_test, average='macro'))\n",
    "print(recall_score(preds, Y_test, average='macro'))\n",
    "# 98.36738822135527 for f1 score\n",
    "# 98.37598791297716 for precision score\n",
    "# 98.36971914890565 for recall score"
   ]
  },
  {
   "cell_type": "code",
   "execution_count": 21,
   "id": "250c1447",
   "metadata": {},
   "outputs": [
    {
     "name": "stdout",
     "output_type": "stream",
     "text": [
      "Prediction:  [3]\n",
      "Label:  1\n"
     ]
    },
    {
     "data": {
      "image/png": "[encoded data removed]",
      "text/plain": [
       "<Figure size 640x480 with 1 Axes>"
      ]
     },
     "metadata": {},
     "output_type": "display_data"
    }
   ],
   "source": [
    "img20 = cv2.imread(\"digit.png\", cv2.IMREAD_GRAYSCALE)\n",
    "show_prediction(1, img20.reshape((784, 1)), 5, W1, b1, W2, b2, W3, b3, W4, b4, selfwritten=True)"
   ]
  },
  {
   "cell_type": "code",
   "execution_count": 12,
   "id": "090c5dbc",
   "metadata": {},
   "outputs": [
    {
     "data": {
      "text/plain": [
       "0.9985666666666667"
      ]
     },
     "execution_count": 12,
     "metadata": {},
     "output_type": "execute_result"
    }
   ],
   "source": [
    "preds_train = make_predictions(X_train, W1, b1, W2, b2, W3, b3, W4, b4)\n",
    "get_accuracy(preds_train, Y_train)"
   ]
  },
  {
   "cell_type": "code",
   "execution_count": 15,
   "id": "3441a20e",
   "metadata": {},
   "outputs": [
    {
     "data": {
      "text/plain": [
       "(28, 28)"
      ]
     },
     "execution_count": 15,
     "metadata": {},
     "output_type": "execute_result"
    }
   ],
   "source": [
    "import cv2\n",
    "import numpy as np\n",
    "\n",
    "img3 = cv2.imread(\"digit5res28x28.png\", cv2.IMREAD_GRAYSCALE)\n",
    "img3.shape"
   ]
  },
  {
   "cell_type": "code",
   "execution_count": 20,
   "id": "5383fed2",
   "metadata": {},
   "outputs": [
    {
     "name": "stdout",
     "output_type": "stream",
     "text": [
      "Prediction:  [3]\n",
      "Label:  5\n"
     ]
    },
    {
     "data": {
      "image/png": "[encoded data removed]",
      "text/plain": [
       "<Figure size 640x480 with 1 Axes>"
      ]
     },
     "metadata": {},
     "output_type": "display_data"
    }
   ],
   "source": [
    "show_prediction(5, img3.reshape((784, 1)), 5, W1, b1, W2, b2, W3, b3, W4, b4, selfwritten=True)"
   ]
  },
  {
   "cell_type": "code",
   "execution_count": 16,
   "id": "98b3df74",
   "metadata": {},
   "outputs": [
    {
     "name": "stdout",
     "output_type": "stream",
     "text": [
      "Prediction:  [4]\n",
      "Label:  4\n"
     ]
    },
    {
     "data": {
      "image/png": "[encoded data removed]",
      "text/plain": [
       "<Figure size 640x480 with 1 Axes>"
      ]
     },
     "metadata": {},
     "output_type": "display_data"
    }
   ],
   "source": [
    "img4 = cv2.imread(\"digit4.png\", cv2.IMREAD_GRAYSCALE)\n",
    "show_prediction(4, img4.reshape((784, 1)), 5, W1, b1, W2, b2, W3, b3, W4, b4, selfwritten=True)"
   ]
  },
  {
   "cell_type": "code",
   "execution_count": 17,
   "id": "dd44a2e1",
   "metadata": {
    "scrolled": true
   },
   "outputs": [
    {
     "name": "stdout",
     "output_type": "stream",
     "text": [
      "Prediction:  [2]\n",
      "Label:  2\n"
     ]
    },
    {
     "data": {
      "image/png": "[encoded data removed]",
      "text/plain": [
       "<Figure size 640x480 with 1 Axes>"
      ]
     },
     "metadata": {},
     "output_type": "display_data"
    }
   ],
   "source": [
    "img5 = cv2.imread(\"digit2.png\", cv2.IMREAD_GRAYSCALE)\n",
    "show_prediction(2, img5.reshape((784, 1)), 5, W1, b1, W2, b2, W3, b3, W4, b4, selfwritten=True)"
   ]
  },
  {
   "cell_type": "code",
   "execution_count": 18,
   "id": "8d68b31d",
   "metadata": {},
   "outputs": [
    {
     "name": "stdout",
     "output_type": "stream",
     "text": [
      "Prediction:  [8]\n",
      "Label:  0\n"
     ]
    },
    {
     "data": {
      "image/png": "[encoded data removed]",
      "text/plain": [
       "<Figure size 640x480 with 1 Axes>"
      ]
     },
     "metadata": {},
     "output_type": "display_data"
    }
   ],
   "source": [
    "img6 = cv2.imread(\"digit8.png\", cv2.IMREAD_GRAYSCALE)\n",
    "show_prediction(0, img6.reshape((784, 1)), 5, W1, b1, W2, b2, W3, b3, W4, b4, selfwritten=True)"
   ]
  }
 ],
 "metadata": {
  "kernelspec": {
   "display_name": "Python 3 (ipykernel)",
   "language": "python",
   "name": "python3"
  },
  "language_info": {
   "codemirror_mode": {
    "name": "ipython",
    "version": 3
   },
   "file_extension": ".py",
   "mimetype": "text/x-python",
   "name": "python",
   "nbconvert_exporter": "python",
   "pygments_lexer": "ipython3",
   "version": "3.10.13"
  }
 },
 "nbformat": 4,
 "nbformat_minor": 5
}
